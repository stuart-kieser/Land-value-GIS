{
 "cells": [
  {
   "cell_type": "markdown",
   "metadata": {},
   "source": [
    "A web crawler is set up to pull sale data off of p24. "
   ]
  },
  {
   "cell_type": "code",
   "execution_count": null,
   "metadata": {},
   "outputs": [],
   "source": [
    "import requests\n",
    "from bs4 import BeautifulSoup\n",
    "import csv\n",
    "from tqdm import tqdm \n",
    "\n",
    "# Define the number of iterations\n",
    "num_iterations = 1\n",
    "\n",
    "pricelist = []\n",
    "locationlist = []\n",
    "\n",
    "# Create a tqdm progress bar\n",
    "for x in tqdm(range(num_iterations), desc=\"Scraping Progress\"):\n",
    "    p24 = f\"https://www.property24.com/houses-for-sale/gauteng/1/p{x}\"\n",
    "    req = requests.get(p24)\n",
    "    soup = BeautifulSoup(req.text, \"html.parser\")\n",
    "\n",
    "    for location in soup.find_all(\"span\", attrs=[\"p24_location\"]):\n",
    "        locationlist.append(location.text)\n",
    "\n",
    "    for price in soup.find_all(\"span\", attrs=[\"p24_price\"]):\n",
    "        pricelist.append(price.text)\n",
    "    \n",
    "    for location in soup.find_all(\"div\", class_=\"p24_location\"):\n",
    "        locationlist.append(location.text)\n",
    "\n",
    "    for location in soup.find_all(\"div\", class_=\"p24_price\"):\n",
    "        locationlist.append(location.text)\n",
    "        \n",
    "\n",
    "pricelist = [price.strip().replace(\"\\n\", \"\").replace(\"\\r\", \"\").replace(\" \", \"\").replace(\"R\", \"\").replace(\"POA\", \"0\") for price in pricelist]    \n",
    "\n",
    "csvdata = [[addr, price] for addr, price in set(zip(pricelist, locationlist))]\n",
    "\n",
    "print(f\"CSVDATA: {len(csvdata), csvdata}\")"
   ]
  },
  {
   "cell_type": "markdown",
   "metadata": {},
   "source": [
    "Using the propattr class the median and sd are calculated for the data. \n",
    "\n",
    "The data should be sorted by area name to avoid over use of the api. \n",
    "\n",
    "The data is sorted by name and pulled into its own list to find the co-ordinates using Bings Map Api."
   ]
  },
  {
   "cell_type": "code",
   "execution_count": null,
   "metadata": {},
   "outputs": [],
   "source": [
    "import geocoder\n",
    "from tqdm import tqdm\n",
    "\n",
    "commonlocations = []\n",
    "\n",
    "\n",
    "for data in csvdata:\n",
    "    if data[1] not in commonlocations:\n",
    "        commonlocations.append(data[1])\n",
    "\n",
    "print(f\"SIZE: {len(commonlocations)} {commonlocations}\")\n",
    "\n",
    "common_coords = []\n",
    "\n",
    "failed = []\n",
    "\n",
    "for addr in tqdm(commonlocations, desc=\"Finding Coordinates\"):\n",
    "    try:\n",
    "        g = geocoder.bing(f'{addr + \" \" + \"South Africa\"}', key=\"Au_zOIgH37lhBFI2w8tNQxjZRxFwuD7892Hx7mBZV6ifLba99oxRQFh6uryjZ5cD\")\n",
    "        \n",
    "        # Check if the geocoding request was successful\n",
    "        if g.ok:\n",
    "            results = g.json\n",
    "            common_coords.append([results[\"lat\"], results[\"lng\"], addr])\n",
    "        else:\n",
    "            # Handle the case where the geocoding request failed\n",
    "            print(f\"Geocoding request failed for address: {addr}\")\n",
    "            failed.append(addr)\n",
    "    except Exception as e:\n",
    "        # Handle any exceptions that may occur during the geocoding request\n",
    "        print(f\"An error occurred while geocoding address: {addr}\")\n",
    "        print(f\"Error details: {str(e)}\")"
   ]
  },
  {
   "cell_type": "markdown",
   "metadata": {},
   "source": [
    "Enter data into csv for locations, price and coords."
   ]
  },
  {
   "cell_type": "code",
   "execution_count": null,
   "metadata": {},
   "outputs": [],
   "source": [
    "with open(f\"prop_gauteng_locations_price.csv\",  \"w\") as r:\n",
    "    fieldnames = [\"Location\", \"Price\"]\n",
    "    writer = csv.writer(r)\n",
    "    for row in csvdata:\n",
    "        writer.writerow(row)\n",
    "\n",
    "with open(\"gauteng_area_coords.csv\", \"w\") as w:\n",
    "    writer = csv.writer(w)\n",
    "    for row in common_coords:\n",
    "        writer.writerow(row)"
   ]
  }
 ],
 "metadata": {
  "kernelspec": {
   "display_name": "Python 3",
   "language": "python",
   "name": "python3"
  },
  "language_info": {
   "codemirror_mode": {
    "name": "ipython",
    "version": 3
   },
   "file_extension": ".py",
   "mimetype": "text/x-python",
   "name": "python",
   "nbconvert_exporter": "python",
   "pygments_lexer": "ipython3",
   "version": "3.9.9"
  },
  "orig_nbformat": 4
 },
 "nbformat": 4,
 "nbformat_minor": 2
}
