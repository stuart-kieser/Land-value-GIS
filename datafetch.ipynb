{
 "cells": [
  {
   "cell_type": "markdown",
   "metadata": {},
   "source": [
    "A web crawler is set up to pull sale data off of p24. \n",
    "# SET THE CSV FILE NAME IN LAST CELL"
   ]
  },
  {
   "cell_type": "code",
   "execution_count": 1,
   "metadata": {},
   "outputs": [
    {
     "name": "stdout",
     "output_type": "stream",
     "text": [
      "CSVDATA: (201, [[640000, 53], [980850, 74], [999900, 40], [2199000, 121], [790000, 40], [950000, 71], [1350000, 83], [700000, 43], [450000, 78], [560000, 26], [599000, 97], [1985000, 77], [585000, 90], [1050000, 58], [1050000, 100], [299000, 81], [295000, 107], [750000, 62], [710000, 67], [1195000, 126], [775000, 44], [299000, 112], [580000, 82], [490000, 104], [1250000, 89], [1050000, 74], [680000, 55], [390000, 101], [784875, 109], [598000, 101], [800000, 66], [769990, 75], [300000, 104], [500000, 93], [1620000, 65], [1050000, 34], [859900, 96], [410000, 64], [360000, 83], [1950000, 72], [665000, 83], [1700000, 60], [761000, 56], [1985000, 84], [655000, 88], [640000, 83], [750000, 68], [650000, 68], [899000, 107], [395000, 78], [785000, 82], [410000, 78], [1680000, 108], [899000, 91], [6200, 79], [499000, 68], [320000, 65], [899000, 72], [1059000, 90], [1400000, 65], [761000, 50], [599000, 64], [1041780, 95], [750000, 110], [1000000, 61], [1050000, 131], [570000, 74], [1200000, 62], [850000, 70], [1067000, 137], [920000, 91], [1400000, 75], [1020000, 65], [320000, 74], [560000, 118], [669000, 126], [1622000, 95], [520000, 40], [1749000, 123], [810000, 58], [1399000, 64], [485000, 81], [580000, 57], [660000, 70], [630000, 44], [950000, 75], [800000, 58], [729000, 77], [565000, 67], [1330000, 41], [820000, 65], [1750000, 88], [630000, 61], [1200000, 104], [3199900, 65], [1850000, 59], [655000, 66], [550000, 96], [640000, 68], [550000, 98], [725000, 60], [750000, 74], [740000, 76], [395000, 50], [1350000, 65], [1620000, 75], [1800000, 64], [680000, 54], [875000, 77], [960000, 65], [500000, 80], [1000000, 81], [570000, 95], [1450000, 40], [485000, 70], [900000, 50], [365000, 71], [890000, 90], [850000, 140], [800000, 92], [2050000, 52], [765000, 97], [640000, 69], [999900, 135], [3100000, 67], [730000, 49], [340000, 55], [1200000, 58], [769990, 83], [2000000, 101], [475000, 132], [859900, 36], [623000, 71], [870000, 70], [800000, 65], [590000, 104], [900000, 85], [1050000, 53], [790000, 124], [900000, 60], [500000, 40], [655000, 65], [645000, 80], [1050, 81], [960000, 101], [655000, 116], [2195000, 113], [830000, 40], [1600000, 97], [749900, 82], [528000, 65], [1300000, 65], [460000, 74], [1449000, 55], [630000, 74], [820000, 53], [850000, 93], [1099900, 78], [1199900, 49], [720000, 49], [1350000, 107], [485000, 34], [3900000, 51], [685000, 82], [1199000, 134], [330000, 54], [705000, 83], [490000, 84], [499000, 45], [720000, 68], [680000, 62], [1250000, 75], [365000, 84], [640000, 101], [1149000, 97], [900000, 107], [560000, 78], [1180000, 42], [1950000, 93], [680000, 61], [560000, 49], [799000, 92], [569000, 83], [1260000, 107], [550000, 65], [1985000, 55], [390000, 112], [490000, 53], [598000, 65], [780000, 78], [699000, 48], [685000, 66], [730000, 139], [920000, 39], [820000, 104], [1485000, 76], [490000, 85], [1850000, 70], [1050000, 26], [0, 134], [800000, 89]])\n"
     ]
    }
   ],
   "source": [
    "import requests\n",
    "from bs4 import BeautifulSoup\n",
    "import csv\n",
    "from tqdm import tqdm \n",
    "\n",
    "# Define the number of pages\n",
    "num_iterations = 6\n",
    "\n",
    "pricelist = []\n",
    "sizelist = []\n",
    "\n",
    "#tqdm(range(num_iterations), desc=\"Scraping Progress\")\n",
    "\n",
    "# Create a tqdm progress bar\n",
    "for x in range(10):\n",
    "    p24 = f\"https://www.property24.com/apartments-for-sale/gauteng/1/p{x}?sp=pt%3d4000000%26fszt%3d150\"\n",
    "    req = requests.get(p24)\n",
    "    soup = BeautifulSoup(req.text, \"html.parser\")\n",
    "\n",
    "    for price in soup.find_all(\"span\", \"p24_price\"):\n",
    "        pricelist.append(price.text)   \n",
    "    \n",
    "    for size in soup.find_all(\"span\", \"p24_size\"):\n",
    "        sizelist.append(size.text)\n",
    "\n",
    "pricelist = [price.strip().replace(\"\\n\", \"\").replace(\"\\r\", \"\").replace(\" \", \"\").replace(\"R\", \"\").replace(\"POA\", \"0\") for price in pricelist]  \n",
    "sizelist = [size.strip().replace(\"\\n\\n\", \"\").replace(\"m²\\n\", \"\").replace(\"m² \", \"\").replace(\" ha\", \"0\").replace(\" m²\", \"\").replace(\" \",  \"\").replace(\".\", \"\") for size in sizelist]  \n",
    "csvdata = [[int(addr), int(price)] for addr, price in set(zip(pricelist, sizelist))]\n",
    "\n",
    "print(f\"CSVDATA: {len(csvdata), csvdata}\")"
   ]
  },
  {
   "cell_type": "markdown",
   "metadata": {},
   "source": [
    "Using the propattr class the median and sd are calculated for the data. \n",
    "\n",
    "The data should be sorted by area name to avoid over use of the api. \n",
    "\n",
    "The data is sorted by name and pulled into its own list to find the co-ordinates using Bings Map Api."
   ]
  },
  {
   "cell_type": "code",
   "execution_count": 14,
   "metadata": {},
   "outputs": [
    {
     "name": "stdout",
     "output_type": "stream",
     "text": [
      "SIZE: 19 [113, 72, 70, 57, 42, 101, 132, 55, 100, 121, 107, 84, 40, 65, 68, 46, 83, 137, 92]\n"
     ]
    },
    {
     "name": "stderr",
     "output_type": "stream",
     "text": [
      "Finding Coordinates: 100%|██████████| 19/19 [00:00<00:00, 19051.34it/s]"
     ]
    },
    {
     "name": "stdout",
     "output_type": "stream",
     "text": [
      "An error occurred while geocoding address: 113\n",
      "Error details: unsupported operand type(s) for +: 'int' and 'str'\n",
      "An error occurred while geocoding address: 72\n",
      "Error details: unsupported operand type(s) for +: 'int' and 'str'\n",
      "An error occurred while geocoding address: 70\n",
      "Error details: unsupported operand type(s) for +: 'int' and 'str'\n",
      "An error occurred while geocoding address: 57\n",
      "Error details: unsupported operand type(s) for +: 'int' and 'str'\n",
      "An error occurred while geocoding address: 42\n",
      "Error details: unsupported operand type(s) for +: 'int' and 'str'\n",
      "An error occurred while geocoding address: 101\n",
      "Error details: unsupported operand type(s) for +: 'int' and 'str'\n",
      "An error occurred while geocoding address: 132\n",
      "Error details: unsupported operand type(s) for +: 'int' and 'str'\n",
      "An error occurred while geocoding address: 55\n",
      "Error details: unsupported operand type(s) for +: 'int' and 'str'\n",
      "An error occurred while geocoding address: 100\n",
      "Error details: unsupported operand type(s) for +: 'int' and 'str'\n",
      "An error occurred while geocoding address: 121\n",
      "Error details: unsupported operand type(s) for +: 'int' and 'str'\n",
      "An error occurred while geocoding address: 107\n",
      "Error details: unsupported operand type(s) for +: 'int' and 'str'\n",
      "An error occurred while geocoding address: 84\n",
      "Error details: unsupported operand type(s) for +: 'int' and 'str'\n",
      "An error occurred while geocoding address: 40\n",
      "Error details: unsupported operand type(s) for +: 'int' and 'str'\n",
      "An error occurred while geocoding address: 65\n",
      "Error details: unsupported operand type(s) for +: 'int' and 'str'\n",
      "An error occurred while geocoding address: 68\n",
      "Error details: unsupported operand type(s) for +: 'int' and 'str'\n",
      "An error occurred while geocoding address: 46\n",
      "Error details: unsupported operand type(s) for +: 'int' and 'str'\n",
      "An error occurred while geocoding address: 83\n",
      "Error details: unsupported operand type(s) for +: 'int' and 'str'\n",
      "An error occurred while geocoding address: 137\n",
      "Error details: unsupported operand type(s) for +: 'int' and 'str'\n",
      "An error occurred while geocoding address: 92\n",
      "Error details: unsupported operand type(s) for +: 'int' and 'str'\n"
     ]
    },
    {
     "name": "stderr",
     "output_type": "stream",
     "text": [
      "\n"
     ]
    }
   ],
   "source": [
    "import geocoder\n",
    "from tqdm import tqdm\n",
    "\n",
    "commonlocations = []\n",
    "\n",
    "\n",
    "for data in csvdata:\n",
    "    if data[1] not in commonlocations:\n",
    "        commonlocations.append(data[1])\n",
    "\n",
    "print(f\"SIZE: {len(commonlocations)} {commonlocations}\")\n",
    "\n",
    "common_coords = []\n",
    "\n",
    "failed = []\n",
    "\n",
    "for addr in tqdm(commonlocations, desc=\"Finding Coordinates\"):\n",
    "    try:\n",
    "        g = geocoder.bing(f'{addr + \"northern cape\" + \"South Africa\"}', key=\"YOURKEY\")\n",
    "        \n",
    "        # Check if the geocoding request was successful\n",
    "        if g.ok:\n",
    "            results = g.json\n",
    "            common_coords.append([results[\"lat\"], results[\"lng\"], addr])\n",
    "        else:\n",
    "            # Handle the case where the geocoding request failed\n",
    "            print(f\"Geocoding request failed for address: {addr}\")\n",
    "            failed.append(addr)\n",
    "    except Exception as e:\n",
    "        # Handle any exceptions that may occur during the geocoding request\n",
    "        print(f\"An error occurred while geocoding address: {addr}\")\n",
    "        print(f\"Error details: {str(e)}\")"
   ]
  },
  {
   "cell_type": "markdown",
   "metadata": {},
   "source": [
    "Enter data into csv for locations, price and coords."
   ]
  },
  {
   "cell_type": "code",
   "execution_count": 2,
   "metadata": {},
   "outputs": [],
   "source": [
    "import os\n",
    "import csv\n",
    "\n",
    "# Specify the target directory path\n",
    "target_directory = r'C:\\GitHub\\Land-value-GIS\\backups'\n",
    "\n",
    "# Create the target directory if it doesn't exist\n",
    "#if not os.path.exists(target_directory):\n",
    "#    os.makedirs(target_directory)\n",
    "\n",
    "# Define the file paths within the \"backups\" folder\n",
    "csvdata_file_path = os.path.join(target_directory, \"house_price_and_area.csv\")\n",
    "common_coords_file_path = os.path.join(target_directory, \"northern_cape_area_coords.csv\")\n",
    "\n",
    "# Write to \"prop_gauteng_locations_price.csv\"\n",
    "with open(csvdata_file_path, \"w\") as r:\n",
    "    writer = csv.writer(r)\n",
    "    writer.writerows(csvdata)\n",
    "\n",
    "# Write to \"gauteng_area_coords.csv\"\n",
    "#with open(common_coords_file_path, \"w\") as w:\n",
    "#    writer = csv.writer(w)\n",
    "#    writer.writerows(common_coords)\n"
   ]
  },
  {
   "cell_type": "markdown",
   "metadata": {},
   "source": [
    "Move the files into the backups dir"
   ]
  }
 ],
 "metadata": {
  "kernelspec": {
   "display_name": "Python 3",
   "language": "python",
   "name": "python3"
  },
  "language_info": {
   "codemirror_mode": {
    "name": "ipython",
    "version": 3
   },
   "file_extension": ".py",
   "mimetype": "text/x-python",
   "name": "python",
   "nbconvert_exporter": "python",
   "pygments_lexer": "ipython3",
   "version": "3.9.9"
  },
  "orig_nbformat": 4
 },
 "nbformat": 4,
 "nbformat_minor": 2
}
