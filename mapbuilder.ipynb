{
 "cells": [
  {
   "cell_type": "markdown",
   "metadata": {},
   "source": [
    "Building the data"
   ]
  },
  {
   "cell_type": "code",
   "execution_count": null,
   "metadata": {},
   "outputs": [],
   "source": [
    "import numpy as np\n",
    "\n",
    "class marketattr:\n",
    "    def __init__(self, market, averagesqm, maxsqm, minsqm, props=[]):\n",
    "        self.market = market or None\n",
    "        self.averagesqm = averagesqm or None\n",
    "        self.maxsqm = maxsqm or None\n",
    "        self.minsqm = minsqm or None\n",
    "        self.props = props\n",
    "        \n",
    "    def addprop(self, prop):\n",
    "        self.props.append(prop)\n",
    "\n",
    "\n",
    "class propattr(marketattr):\n",
    "    def __init__(self, coords, price, address) -> None:\n",
    "        self.address = address\n",
    "        self.coords = coords or self.get_coords(self.address)\n",
    "        self.price = price\n",
    "        self.intensity = self.calculate_intensity()\n",
    "\n",
    "    def calculate_intensity(self):\n",
    "        medianlist = np.array(pricelist, dtype=int)\n",
    "        median = np.median(medianlist)\n",
    "        stdprice = np.std(medianlist)\n",
    "        \n",
    "        if int(self.price) < int(median):\n",
    "            return 1\n",
    "        \n",
    "        if int(self.price) > int(median) + int(stdprice):\n",
    "            return 2\n",
    "        \n",
    "        if int(self.price) > int(median) + 2 * int(stdprice):\n",
    "            return 3\n",
    "        \n",
    "        if int(self.price) > int(median) + 3 * int(stdprice):\n",
    "            return 4\n",
    "        \n",
    "        else:\n",
    "            return 1\n",
    "    \n",
    "    def get_coords(self, addr):\n",
    "        for address in comcoords:\n",
    "            if addr == address[2]:\n",
    "                coords = [address[0], address[1]]\n",
    "                return coords\n",
    "               \n",
    "\n",
    "market = marketattr(\"Gauteng\", None, None, None, props=[])\n",
    "df = []\n",
    "pricelist = []\n",
    "comcoords = []"
   ]
  },
  {
   "cell_type": "markdown",
   "metadata": {},
   "source": [
    "# Pulling the data from the csv."
   ]
  },
  {
   "cell_type": "code",
   "execution_count": null,
   "metadata": {},
   "outputs": [],
   "source": [
    "import csv\n",
    "\n",
    "with open(f\"prop_gauteng_locations_price.csv\", \"r\") as r:\n",
    "    reader = csv.reader(r)\n",
    "    for data in reader:\n",
    "        if len(data) > 1:\n",
    "            df.append(data)\n",
    "\n",
    "for data in df:\n",
    "    pricelist.append(data[0])\n",
    "\n",
    "with open(\"gauteng_area_coords.csv\", \"r\") as w:\n",
    "    reader = csv.reader(w)\n",
    "\n",
    "    for row in reader:\n",
    "        if len(row) > 1:\n",
    "            comcoords.append(row)\n",
    "\n",
    "print(df)\n",
    "print(pricelist)\n",
    "print(comcoords)"
   ]
  },
  {
   "cell_type": "markdown",
   "metadata": {},
   "source": [
    "Build the market with the data"
   ]
  },
  {
   "cell_type": "code",
   "execution_count": null,
   "metadata": {},
   "outputs": [],
   "source": [
    "from tqdm import tqdm\n",
    "\n",
    "def buildprops():\n",
    "    prop = propattr(coords=None, price=props[0], address=f\"{props[1]}\")\n",
    "    market.addprop(prop)\n",
    "    \n",
    "\n",
    "for props in tqdm(df, desc=\"Building props\"):\n",
    "    buildprops()\n",
    "print(\"Done.\")"
   ]
  },
  {
   "cell_type": "markdown",
   "metadata": {},
   "source": [
    "Data is visualized on map"
   ]
  },
  {
   "cell_type": "code",
   "execution_count": null,
   "metadata": {},
   "outputs": [],
   "source": [
    "from ipyleaflet import Map, basemaps, Heatmap, Marker\n",
    "center = [-25.97529793, 28.11886787]\n",
    "zoom = 5\n",
    "heatmap_data = []\n",
    "location_data = []\n",
    "\n",
    "m = Map(basemap=basemaps.Esri.WorldStreetMap, center=center, zoom=zoom)\n",
    "\n",
    "for prop in market.props:\n",
    "    try:\n",
    "        if prop is not None:\n",
    "            print(prop.coords[0], prop.coords[1], prop.intensity)\n",
    "            hprop = prop.coords[0], prop.coords[1], prop.intensity\n",
    "            mprop = prop.coords[0], prop.coords[1]\n",
    "            heatmap_data.append(hprop)\n",
    "            location_data.append(mprop)\n",
    "    except TypeError as e:\n",
    "               pass\n",
    "\n",
    "m.add_layer(Heatmap(locations=heatmap_data, radius=100, blur=25))\n",
    "\n",
    "for prop in location_data:\n",
    "    m.add_layer(Marker(location=prop))\n",
    "\n",
    "m"
   ]
  }
 ],
 "metadata": {
  "kernelspec": {
   "display_name": "Python 3",
   "language": "python",
   "name": "python3"
  },
  "language_info": {
   "codemirror_mode": {
    "name": "ipython",
    "version": 3
   },
   "file_extension": ".py",
   "mimetype": "text/x-python",
   "name": "python",
   "nbconvert_exporter": "python",
   "pygments_lexer": "ipython3",
   "version": "3.9.9"
  },
  "orig_nbformat": 4
 },
 "nbformat": 4,
 "nbformat_minor": 2
}
