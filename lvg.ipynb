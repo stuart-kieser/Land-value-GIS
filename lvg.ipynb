{
 "cells": [
  {
   "cell_type": "markdown",
   "metadata": {},
   "source": [
    "Property consists of attributes; location Street address --> (co-ordinates), price, area.\n",
    "these attriutes need to be revalued to the heat map intensity scales, this can be done with maximum land value and minimum land value per SQM. \n",
    "[longatude, latitude, intensity]\n",
    "\n",
    "Market consists of attributes; average land price, average land area, value per SQM. \n",
    "\n",
    "Property attributes and market attributes define characteristics of the valuation map. \n",
    "\n",
    "Converting street address into co-ordinates is done with the Bing Maps api. \n",
    "\n",
    "The csv file has the property data: location and price, the location is plugged into the the address tab and the price into the price catagory. \n",
    "The intensity should be auto calculated, maybe set to the standard deviation of the data set. "
   ]
  },
  {
   "cell_type": "markdown",
   "metadata": {},
   "source": [
    "A web crawler is set up to pull sale data off of p24. "
   ]
  },
  {
   "cell_type": "code",
   "execution_count": 9,
   "metadata": {},
   "outputs": [
    {
     "name": "stderr",
     "output_type": "stream",
     "text": [
      "Scraping Progress: 100%|██████████| 1/1 [00:01<00:00,  1.34s/it]"
     ]
    },
    {
     "name": "stdout",
     "output_type": "stream",
     "text": [
      "CSVDATA: (4, [['2499000', 'Mabopane  Unit X'], ['860000', 'Midlands Estate'], ['1910275', 'Magaliesberg Country Estate'], ['1190000', 'Franschhoek']])\n"
     ]
    },
    {
     "name": "stderr",
     "output_type": "stream",
     "text": [
      "\n"
     ]
    }
   ],
   "source": [
    "import requests\n",
    "from bs4 import BeautifulSoup\n",
    "import csv\n",
    "from tqdm import tqdm \n",
    "\n",
    "# Define the number of iterations\n",
    "num_iterations = 1\n",
    "\n",
    "pricelist = []\n",
    "locationlist = []\n",
    "addresslist = []\n",
    "\n",
    "# Create a tqdm progress bar\n",
    "for x in tqdm(range(num_iterations), desc=\"Scraping Progress\"):\n",
    "    p24 = f\"https://www.property24.com/houses-for-sale/gauteng/1/p{x}\"\n",
    "    req = requests.get(p24)\n",
    "    soup = BeautifulSoup(req.text, \"html.parser\")\n",
    "\n",
    "    for location in soup.find_all(\"span\", attrs=[\"p24_location\"]):\n",
    "        locationlist.append(location.text)\n",
    "\n",
    "    for price in soup.find_all(\"span\", attrs=[\"p24_price\"]):\n",
    "        pricelist.append(price.text)\n",
    "    \n",
    "    for location in soup.find_all(\"div\", class_=\"p24_location\"):\n",
    "        locationlist.append(location.text)\n",
    "\n",
    "    for location in soup.find_all(\"div\", class_=\"p24_price\"):\n",
    "        locationlist.append(location.text)\n",
    "        \n",
    "\n",
    "pricelist = [price.strip().replace(\"\\n\", \"\").replace(\"\\r\", \"\").replace(\" \", \"\").replace(\"R\", \"\").replace(\"POA\", \"0\") for price in pricelist]    \n",
    "\n",
    "csvdata = [[addr, price] for addr, price in set(zip(pricelist, locationlist))]\n",
    "\n",
    "print(f\"CSVDATA: {len(csvdata), csvdata}\")"
   ]
  },
  {
   "cell_type": "markdown",
   "metadata": {},
   "source": [
    "Using the propattr class the median and sd are calculated for the data. \n",
    "\n",
    "The data should be sorted by area name to avoid over use of the api. \n",
    "\n",
    "The data is sorted by name and pulled into its own list to find the co-ordinates using Bings Map Api."
   ]
  },
  {
   "cell_type": "code",
   "execution_count": 10,
   "metadata": {},
   "outputs": [
    {
     "name": "stdout",
     "output_type": "stream",
     "text": [
      "SIZE: 4 ['Mabopane  Unit X', 'Midlands Estate', 'Magaliesberg Country Estate', 'Franschhoek']\n"
     ]
    },
    {
     "name": "stderr",
     "output_type": "stream",
     "text": [
      "Finding Coordinates: 100%|██████████| 4/4 [00:02<00:00,  1.78it/s]\n"
     ]
    }
   ],
   "source": [
    "import geocoder\n",
    "from tqdm import tqdm\n",
    "\n",
    "commonlocations = []\n",
    "\n",
    "\n",
    "for data in csvdata:\n",
    "    if data[1] not in commonlocations:\n",
    "        commonlocations.append(data[1])\n",
    "\n",
    "print(f\"SIZE: {len(commonlocations)} {commonlocations}\")\n",
    "\n",
    "common_coords = []\n",
    "\n",
    "failed = []\n",
    "\n",
    "for addr in tqdm(commonlocations, desc=\"Finding Coordinates\"):\n",
    "    try:\n",
    "        g = geocoder.bing(f'{addr}', key=\"Au_zOIgH37lhBFI2w8tNQxjZRxFwuD7892Hx7mBZV6ifLba99oxRQFh6uryjZ5cD\")\n",
    "        \n",
    "        # Check if the geocoding request was successful\n",
    "        if g.ok:\n",
    "            results = g.json\n",
    "            common_coords.append([addr, results])\n",
    "        else:\n",
    "            # Handle the case where the geocoding request failed\n",
    "            print(f\"Geocoding request failed for address: {addr}\")\n",
    "            failed.append(addr)\n",
    "    except Exception as e:\n",
    "        # Handle any exceptions that may occur during the geocoding request\n",
    "        print(f\"An error occurred while geocoding address: {addr}\")\n",
    "        print(f\"Error details: {str(e)}\")"
   ]
  },
  {
   "cell_type": "code",
   "execution_count": 11,
   "metadata": {},
   "outputs": [],
   "source": [
    "import numpy as np\n",
    "\n",
    "class marketattr:\n",
    "    def __init__(self, market, averagesqm, maxsqm, minsqm, props=[]):\n",
    "        self.market = market or None\n",
    "        self.averagesqm = averagesqm or None\n",
    "        self.maxsqm = maxsqm or None\n",
    "        self.minsqm = minsqm or None\n",
    "        self.props = props\n",
    "        \n",
    "    def addprop(self, prop):\n",
    "        self.props.append(prop)\n",
    "\n",
    "\n",
    "class propattr(marketattr):\n",
    "    def __init__(self, coords, price, address) -> None:\n",
    "        self.address = address\n",
    "        self.coords = coords or self.get_coords(self.address)\n",
    "        self.price = price\n",
    "        self.intensity = self.calculate_intensity()\n",
    "\n",
    "    def calculate_intensity(self):\n",
    "        medianlist = np.array(pricelist, dtype=int)\n",
    "        median = np.median(medianlist)\n",
    "        stdprice = np.std(medianlist)\n",
    "        \n",
    "        if int(self.price) < int(median):\n",
    "            return 1\n",
    "        \n",
    "        if int(self.price) > int(median) + int(stdprice):\n",
    "            return 2\n",
    "        \n",
    "        if int(self.price) > int(median) + 2 * int(stdprice):\n",
    "            return 3\n",
    "        \n",
    "        if int(self.price) > int(median) + 3 * int(stdprice):\n",
    "            return 4\n",
    "        \n",
    "        else:\n",
    "            return 1\n",
    "    \n",
    "    def get_coords(self, addr):\n",
    "        for address in common_coords:\n",
    "            if addr == address[0]:\n",
    "                coords = [address[1][\"lat\"], address[1][\"lng\"]]\n",
    "                return coords\n",
    "        \n",
    "\n",
    "market = marketattr(\"Gauteng\", None, None, None, props=[])"
   ]
  },
  {
   "cell_type": "code",
   "execution_count": 12,
   "metadata": {},
   "outputs": [
    {
     "name": "stdout",
     "output_type": "stream",
     "text": [
      "['1190000', '1910275', '2499000', '860000']\n",
      "[['2499000', 'Mabopane  Unit X'], ['860000', 'Midlands Estate'], ['1910275', 'Magaliesberg Country Estate'], ['1190000', 'Franschhoek']]\n"
     ]
    }
   ],
   "source": [
    "with open(f\"prop_{market.market}_locations_price.csv\",  \"w\") as r:\n",
    "    fieldnames = [\"Location\", \"Price\"]\n",
    "    writer = csv.writer(r)\n",
    "    for row in csvdata:\n",
    "        writer.writerow(row)\n",
    "       \n",
    "df = []\n",
    "\n",
    "with open(f\"prop_{market.market}_locations_price.csv\", \"r\") as r:\n",
    "    reader = csv.reader(r)\n",
    "    \n",
    "    for data in reader:\n",
    "        if len(data) > 1:\n",
    "            df.append(data)\n",
    "\n",
    "print(pricelist)\n",
    "print(df)"
   ]
  },
  {
   "cell_type": "code",
   "execution_count": 13,
   "metadata": {},
   "outputs": [],
   "source": [
    "with open(\"data_attached.csv\", \"w\") as w:\n",
    "    writer = csv.writer(w)\n",
    "\n",
    "    for row in common_coords:\n",
    "        writer.writerow(row)"
   ]
  },
  {
   "cell_type": "code",
   "execution_count": 14,
   "metadata": {},
   "outputs": [],
   "source": [
    "comcoords = []\n",
    "with open(\"data_attached.csv\", \"r\") as w:\n",
    "    writer = csv.reader(w)\n",
    "\n",
    "    for row in common_coords:\n",
    "        comcoords.append(row)"
   ]
  },
  {
   "cell_type": "markdown",
   "metadata": {},
   "source": [
    "The market is built with the data collected."
   ]
  },
  {
   "cell_type": "code",
   "execution_count": 15,
   "metadata": {},
   "outputs": [
    {
     "name": "stderr",
     "output_type": "stream",
     "text": [
      "Building props: 100%|██████████| 4/4 [00:00<00:00, 999.83it/s]"
     ]
    },
    {
     "name": "stdout",
     "output_type": "stream",
     "text": [
      "[-25.5087986, 28.06579208]\n",
      "[-25.93249893, 28.18990135]\n",
      "[-25.6695652, 28.07815361]\n",
      "[-33.91412354, 19.12263489]\n",
      "Done.\n"
     ]
    },
    {
     "name": "stderr",
     "output_type": "stream",
     "text": [
      "\n"
     ]
    }
   ],
   "source": [
    "def buildprops():\n",
    "    prop = propattr(coords=None, price=props[0], address=f\"{props[1]}\")\n",
    "    market.addprop(prop)\n",
    "    print(prop.coords)\n",
    "    \n",
    "\n",
    "for props in tqdm(df, desc=\"Building props\"):\n",
    "    buildprops()\n",
    "print(\"Done.\")\n",
    "    "
   ]
  },
  {
   "cell_type": "markdown",
   "metadata": {},
   "source": [
    "Using the map showcased earlier, we are able to input the three value printed above to start forming the heat map. "
   ]
  },
  {
   "cell_type": "code",
   "execution_count": 16,
   "metadata": {},
   "outputs": [
    {
     "name": "stdout",
     "output_type": "stream",
     "text": [
      "-25.5087986 28.06579208 2\n",
      "-25.93249893 28.18990135 1\n",
      "-25.6695652 28.07815361 1\n",
      "-33.91412354 19.12263489 1\n"
     ]
    },
    {
     "data": {
      "application/vnd.jupyter.widget-view+json": {
       "model_id": "66b132060bb94abdbc9c4b9d84f103dd",
       "version_major": 2,
       "version_minor": 0
      },
      "text/plain": [
       "Map(center=[-25.97529793, 28.11886787], controls=(ZoomControl(options=['position', 'zoom_in_text', 'zoom_in_ti…"
      ]
     },
     "execution_count": 16,
     "metadata": {},
     "output_type": "execute_result"
    }
   ],
   "source": [
    "from ipyleaflet import Map, basemaps, Heatmap\n",
    "center = [-25.97529793, 28.11886787]\n",
    "zoom = 13\n",
    "heatmap_data = []\n",
    "location_data = []\n",
    "\n",
    "m = Map(basemap=basemaps.Esri.WorldStreetMap, center=center, zoom=zoom)\n",
    "\n",
    "for prop in market.props:\n",
    "    try:\n",
    "        if prop is not None:\n",
    "            print(prop.coords[0], prop.coords[1], prop.intensity)\n",
    "            sprop = prop.coords[0], prop.coords[1], prop.intensity\n",
    "            heatmap_data.append(sprop)\n",
    "    except TypeError as e:\n",
    "               pass\n",
    "\n",
    "m.add_layer(Heatmap(locations=heatmap_data, radius=100, blur=80))\n",
    "\n",
    "m"
   ]
  }
 ],
 "metadata": {
  "kernelspec": {
   "display_name": "Python 3",
   "language": "python",
   "name": "python3"
  },
  "language_info": {
   "codemirror_mode": {
    "name": "ipython",
    "version": 3
   },
   "file_extension": ".py",
   "mimetype": "text/x-python",
   "name": "python",
   "nbconvert_exporter": "python",
   "pygments_lexer": "ipython3",
   "version": "3.9.9"
  },
  "orig_nbformat": 4
 },
 "nbformat": 4,
 "nbformat_minor": 2
}
